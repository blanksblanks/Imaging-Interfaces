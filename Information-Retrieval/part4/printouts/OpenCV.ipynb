{
 "metadata": {
  "name": "",
  "signature": "sha256:95b9313a015958d9cd4104d276de9b9a4dd4840465d4dfb1170334c9e10a70ff"
 },
 "nbformat": 3,
 "nbformat_minor": 0,
 "worksheets": [
  {
   "cells": [
    {
     "cell_type": "code",
     "collapsed": false,
     "input": [
      "import sys\n",
      "sys.path.append('/usr/local/lib/python2.7/site-packages')"
     ],
     "language": "python",
     "metadata": {},
     "outputs": [],
     "prompt_number": 4
    },
    {
     "cell_type": "code",
     "collapsed": false,
     "input": [
      "import cv2\n",
      "import numpy as np\n",
      "import matplotlib.pyplot as plt\n",
      "from skimage import io\n",
      "\n",
      "from IPython.html import widgets\n",
      "\n",
      "%matplotlib inline\n",
      "\n",
      "img = cv2.imread(\"images/i01.ppm\")[:,:,::-1]\n",
      "plt.imshow(img)"
     ],
     "language": "python",
     "metadata": {},
     "outputs": []
    },
    {
     "cell_type": "code",
     "collapsed": false,
     "input": [],
     "language": "python",
     "metadata": {},
     "outputs": []
    }
   ],
   "metadata": {}
  }
 ]
}